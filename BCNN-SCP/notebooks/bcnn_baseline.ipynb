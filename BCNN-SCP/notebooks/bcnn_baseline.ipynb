{
 "cells": [
  {
   "cell_type": "markdown",
   "metadata": {},
   "source": [
    "### Imports"
   ]
  },
  {
   "cell_type": "code",
   "execution_count": 70,
   "metadata": {},
   "outputs": [],
   "source": [
    "# imports\n",
    "import numpy as np\n",
    "\n",
    "import torch\n",
    "import gpytorch\n",
    "from torchvision import datasets, transforms\n",
    "from torch.utils.data import DataLoader, random_split\n",
    "import matplotlib.pyplot as plt\n",
    "import seaborn as sns\n",
    "\n",
    "import torch.nn as nn\n",
    "import torch.nn.functional as F\n",
    "import torch.optim as optim\n",
    "from torch.distributions import Normal\n",
    "\n",
    "from tqdm.notebook import tqdm\n",
    "\n",
    "# Seaborn style for visualization\n",
    "sns.set_theme(style=\"whitegrid\")"
   ]
  },
  {
   "cell_type": "code",
   "execution_count": 76,
   "metadata": {},
   "outputs": [],
   "source": [
    "from abc import ABC, abstractmethod\n",
    "\n",
    "\n",
    "class SpatialCovariance(ABC):\n",
    "    def __call__(self, w, h):\n",
    "        xs = torch.linspace(0, 1, w)\n",
    "        ys = torch.linspace(0, 1, h)\n",
    "        points = [torch.tensor([x, y], dtype=torch.float) for x in xs for y in ys]\n",
    "        covar = torch.zeros(len(points), len(points))\n",
    "        for i in range(len(points)):\n",
    "            for j in range(i, len(points)):\n",
    "                x = points[i]\n",
    "                y = points[j]\n",
    "                covar[i, j] = self.kernel(x, y)\n",
    "                covar[j, i] = covar[i, j]\n",
    "        return covar\n",
    "\n",
    "    @abstractmethod\n",
    "    def kernel(self, x, y):\n",
    "        raise NotImplementedError\n",
    "\n",
    "\n",
    "class RBFCovariance(SpatialCovariance):\n",
    "    def __init__(self, a, l):\n",
    "        self.a = a\n",
    "        self.l = l\n",
    "\n",
    "    def kernel(self, x, y):\n",
    "        diff = torch.norm(x - y)\n",
    "        return self.a * torch.exp(-(diff**2) / (2 * self.l**2))"
   ]
  },
  {
   "cell_type": "markdown",
   "metadata": {},
   "source": [
    "### Dataset and dataloader setup"
   ]
  },
  {
   "cell_type": "code",
   "execution_count": 72,
   "metadata": {},
   "outputs": [],
   "source": [
    "# Set up data transformations\n",
    "transform = transforms.Compose([\n",
    "    transforms.ToTensor(),  # Convert to tensor\n",
    "    transforms.Normalize((0.5,), (0.5,))  # Normalize to mean=0.5 and std=0.5\n",
    "])\n",
    "\n",
    "# Download and load the MNIST dataset\n",
    "dataset = datasets.MNIST(root='../data', train=True, transform=transform, download=True)\n",
    "test_dataset = datasets.MNIST(root='../data', train=False, transform=transform, download=True)"
   ]
  },
  {
   "cell_type": "code",
   "execution_count": 73,
   "metadata": {},
   "outputs": [],
   "source": [
    "# Split the training dataset into train and validation subsets\n",
    "train_size = int(0.8 * len(dataset))  # 80% for training\n",
    "val_size = len(dataset) - train_size  # 20% for validation\n",
    "train_dataset, val_dataset = random_split(dataset, [train_size, val_size])\n",
    "\n",
    "# Create dataloaders\n",
    "batch_size = 64\n",
    "train_loader = DataLoader(train_dataset, batch_size=batch_size, shuffle=True)\n",
    "val_loader = DataLoader(val_dataset, batch_size=batch_size, shuffle=False)\n",
    "test_loader = DataLoader(test_dataset, batch_size=batch_size, shuffle=False)"
   ]
  },
  {
   "cell_type": "markdown",
   "metadata": {},
   "source": [
    "### Visualising images"
   ]
  },
  {
   "cell_type": "code",
   "execution_count": 74,
   "metadata": {},
   "outputs": [],
   "source": [
    "# Function to visualize a batch of images\n",
    "def visualize_images(dataloader, title=\"Images\"):\n",
    "    # Get a batch of images\n",
    "    images, labels = next(iter(dataloader))\n",
    "    \n",
    "    # Denormalize images for visualization\n",
    "    images = images * 0.5 + 0.5  # Reverse normalization to [0, 1]\n",
    "    \n",
    "    # Set up the figure\n",
    "    fig, axes = plt.subplots(2, 4, figsize=(8, 4))\n",
    "    fig.suptitle(title, fontsize=16)\n",
    "    axes = axes.flatten()\n",
    "    \n",
    "    for img, label, ax in zip(images[:8], labels[:8], axes):\n",
    "        ax.imshow(img.squeeze(), cmap='gray')  # Display the single-channel image\n",
    "        ax.set_title(f\"Label: {label.item()}\")\n",
    "        ax.axis('off')\n",
    "    \n",
    "    plt.tight_layout()\n",
    "    plt.show()"
   ]
  },
  {
   "cell_type": "code",
   "execution_count": 75,
   "metadata": {},
   "outputs": [
    {
     "data": {
      "image/png": "[encoded data removed]",
      "text/plain": [
       "<Figure size 576x288 with 8 Axes>"
      ]
     },
     "metadata": {},
     "output_type": "display_data"
    }
   ],
   "source": [
    "# Visualize train, validation, and test batches\n",
    "visualize_images(train_loader, title=\"Visualise images\")"
   ]
  },
  {
   "cell_type": "markdown",
   "metadata": {},
   "source": [
    "### Baseline B-CNN"
   ]
  },
  {
   "cell_type": "code",
   "execution_count": 94,
   "metadata": {},
   "outputs": [],
   "source": [
    "def KL_DIV(mu_p, sig_p, mu_q, sig_q):\n",
    "    kl = 0\n",
    "    kernel_size = sig_q.shape[1]\n",
    "    blocks = sig_q.shape[0]\n",
    "    n = sig_q.shape[1]\n",
    "    sig_p_inv = torch.linalg.pinv(sig_p)\n",
    "    term_1_2 = torch.logdet(sig_p)\n",
    "    for i in range(blocks):\n",
    "        term_1_1 = torch.logdet(sig_q[i,:,:])\n",
    "        term_1 =  term_1_1 - term_1_2\n",
    "        term_3 = torch.trace(sig_p_inv @ sig_q[i,:,:])\n",
    "        mu_diff = (mu_q[kernel_size*i:kernel_size*(i+1)] - mu_p[kernel_size*i:kernel_size*(i+1)])\n",
    "        loss = (term_1 + n - term_3 - (mu_diff).T @ sig_p_inv @ (mu_diff))\n",
    "        # print(\"term11\", term_1_1)\n",
    "        # print(\"term12\", term_1_2)\n",
    "        # print(\"term3\", term_3)\n",
    "        # print(\"sig_p_inv\", sig_p_inv)\n",
    "        kl += loss\n",
    "               \n",
    "    return -0.5*kl\n",
    "\n",
    "\n",
    "class RBF(gpytorch.kernels.RBFKernel):\n",
    "    def __init__(self, a, **kwargs):\n",
    "        super().__init__(**kwargs)\n",
    "        self.outputscale = a\n",
    "\n",
    "    def forward(self, x1, x2, **params):\n",
    "        # covar = super().forward(x1, x2, **params)\n",
    "        covar = torch.eye(x1.shape[0])\n",
    "        return covar * self.outputscale\n",
    "\n",
    "class BBBConv2d(nn.Module):\n",
    "    def __init__(self, in_channels, out_channels, kernel_size,\n",
    "                 stride=1, padding=0, dilation=1, priors=None, num_samples=1):\n",
    "\n",
    "        super(BBBConv2d, self).__init__()\n",
    "        self.in_channels = in_channels\n",
    "        self.out_channels = out_channels\n",
    "        self.kernel_shape = kernel_size if isinstance(kernel_size, tuple) else (kernel_size, kernel_size)\n",
    "        self.kernel_size = self.kernel_shape[0] * self.kernel_shape[1]\n",
    "        self.stride = stride\n",
    "        self.padding = padding\n",
    "        self.dilation = dilation\n",
    "        self.groups = 1\n",
    "        self.device = torch.device(\"cuda:0\" if torch.cuda.is_available() else \"cpu\")\n",
    "        self.num_samples = num_samples\n",
    "\n",
    "        prior_mu = torch.zeros(self.kernel_size*in_channels*out_channels,)\n",
    "        rbf_kernel = RBFCovariance(1, 1)\n",
    "        prior_covariance_matrix = rbf_kernel(self.kernel_shape[0], self.kernel_shape[1])\n",
    "\n",
    "        grid_size = self.kernel_shape[0]\n",
    "        x = torch.linspace(0, 1, grid_size)\n",
    "        y = torch.linspace(0, 1, grid_size)\n",
    "        xx, yy = torch.meshgrid(x, y, indexing=\"ij\")\n",
    "        self.points = torch.stack([xx.ravel(), yy.ravel()], dim=-1)\n",
    "        self.counter = 0\n",
    "\n",
    "        if priors is None:\n",
    "            priors = {\n",
    "                'prior_mu': prior_mu,\n",
    "                'prior_cov': prior_covariance_matrix\n",
    "            }\n",
    "        \n",
    "        # prior mean and convariance\n",
    "\n",
    "        self.prior_mu = priors['prior_mu']\n",
    "        self.prior_cov = priors['prior_cov']\n",
    "\n",
    "        # kernel for weight paramters (W_mu and W_sigma)\n",
    "        # a and l are learnable here\n",
    "\n",
    "        self.a = nn.Parameter(1+torch.rand(in_channels*out_channels))\n",
    "        self.l = nn.Parameter(1+torch.rand(in_channels*out_channels))\n",
    "\n",
    "        self.W_mu = nn.Parameter(torch.rand(in_channels*out_channels*self.kernel_size))\n",
    "        self.sampled_weights = torch.rand((self.num_samples,) + self.W_mu.shape)\n",
    "\n",
    "    def forward(self, input, sample=True):\n",
    "        # (B,S,C,H,W)\n",
    "        if self.training or sample:\n",
    "            # W_mu, a and l are learnable parameters\n",
    "            self.sample_weights()\n",
    "\n",
    "            # now we have sampled \"num_samples\" at once\n",
    "            # we iterate through the S dimension and run each set of weights for each sample\n",
    "            # it is guarenteed that self.num_samples matches with S (except for first layer, where input will have S = 1)\n",
    "            S = input.shape[1]\n",
    "            outputs = []\n",
    "            for i in range(self.num_samples):\n",
    "                weight = self.sampled_weights[i,:].view(self.out_channels, self.in_channels, self.kernel_shape[0], self.kernel_shape[1])\n",
    "\n",
    "                input_index = 0 if S == 1 else i\n",
    "                outputs.append(F.conv2d(input[:,input_index,:,:,:], weight, None, self.stride, self.padding, self.dilation, self.groups))\n",
    "            return torch.stack(outputs, dim=1)\n",
    "        else:\n",
    "            weight = self.W_mu.view(self.out_channels, self.in_channels, self.kernel_shape[0], self.kernel_shape[1])\n",
    "            return F.conv2d(input[:,0,:,:,:], weight, None, self.stride, self.padding, self.dilation, self.groups)\n",
    "\n",
    "    def kl_loss(self):\n",
    "        return KL_DIV(self.prior_mu, self.prior_cov, self.W_mu, self.W_cov)\n",
    "    \n",
    "    def sample_weights(self):\n",
    "        blocks = []\n",
    "        print(\"time start\")\n",
    "        for i in range(self.in_channels*self.out_channels):\n",
    "            # different a and l for different filter (x,y)\n",
    "            rbf_kernel = RBFCovariance(self.a[i], self.l[i])\n",
    "\n",
    "            filterwise_covariance_matrix = rbf_kernel(self.kernel_shape[0], self.kernel_shape[1])\n",
    "            jitter = 1e-6 * torch.eye(filterwise_covariance_matrix.size(0))\n",
    "            filterwise_covariance_matrix += jitter\n",
    "\n",
    "            # samples \"num_samples\" weights at once\n",
    "            mvn = torch.distributions.MultivariateNormal(self.W_mu[self.kernel_size*i : self.kernel_size*i+self.kernel_size], filterwise_covariance_matrix)\n",
    "            self.sampled_weights[:, self.kernel_size*i : self.kernel_size*i+self.kernel_size] = mvn.sample((self.num_samples,))\n",
    "\n",
    "            self.counter+=1\n",
    "\n",
    "            blocks.append(filterwise_covariance_matrix)\n",
    "        \n",
    "        self.W_cov = torch.stack(blocks) # concats only the blocks of the block diagonal covariance matrix\n",
    "        print(\"time end\")\n",
    "        \n",
    "class BayesianCNN(nn.Module):\n",
    "    def __init__(self, num_samples=1):\n",
    "        super(BayesianCNN, self).__init__()\n",
    "        self.conv1 = BBBConv2d(1, 32, kernel_size=3, stride=1, padding=1, num_samples=num_samples)\n",
    "        self.conv2 = BBBConv2d(32, 64, kernel_size=3, stride=1, padding=1, num_samples=num_samples)\n",
    "        self.pool = nn.MaxPool2d(kernel_size=2, stride=2)\n",
    "        self.fc1 = nn.Linear(64 * 14 * 14, 128)\n",
    "        self.fc2 = nn.Linear(128, 10)\n",
    "        self.num_samples = num_samples\n",
    "\n",
    "    def forward(self, x_in):\n",
    "        x = x_in\n",
    "        x = torch.relu(self.conv1(x))\n",
    "        x = torch.relu(self.conv2(x))\n",
    "        y=[]\n",
    "        for i in range(self.num_samples):\n",
    "            y.append(self.pool(x[:,i,:,:,:]))\n",
    "        y = torch.stack(y, dim=1)\n",
    "        y = y.view(y.size(0), y.size(1), -1)  # Flatten\n",
    "        y = torch.relu(self.fc1(y))\n",
    "        y = self.fc2(y)\n",
    "        y = F.log_softmax(y, dim=2)\n",
    "\n",
    "        kl = 0.0\n",
    "        for module in self.children():\n",
    "            if hasattr(module, 'kl_loss'):\n",
    "                module_kl_loss = module.kl_loss()\n",
    "                kl = kl + module_kl_loss\n",
    "\n",
    "        return y, kl\n",
    "\n",
    "class NonBayesianCNN(nn.Module):\n",
    "    def __init__(self):\n",
    "        super(NonBayesianCNN, self).__init__()\n",
    "        self.conv1 = nn.Conv2d(1, 32, kernel_size=3, stride=1, padding=1)\n",
    "        self.conv2 = nn.Conv2d(32, 64, kernel_size=3, stride=1, padding=1)\n",
    "        self.pool = nn.MaxPool2d(kernel_size=2, stride=2)\n",
    "        self.fc1 = nn.Linear(64 * 14 * 14, 128)\n",
    "        self.fc2 = nn.Linear(128, 10)\n",
    "\n",
    "    def forward(self, x):\n",
    "        x = torch.relu(self.conv1(x))\n",
    "        x = self.pool(torch.relu(self.conv2(x)))\n",
    "        x = x.view(x.size(0), -1)  # Flatten\n",
    "        x = torch.relu(self.fc1(x))\n",
    "        x = self.fc2(x)\n",
    "\n",
    "        return x"
   ]
  },
  {
   "cell_type": "code",
   "execution_count": 16,
   "metadata": {},
   "outputs": [
    {
     "data": {
      "text/plain": [
       "torch.Size([64, 100, 32, 7, 7])"
      ]
     },
     "execution_count": 16,
     "metadata": {},
     "output_type": "execute_result"
    }
   ],
   "source": [
    "model=BBBConv2d(1,32,3,num_samples=100)\n",
    "model(torch.rand(64, 1, 1, 9, 9)).shape"
   ]
  },
  {
   "cell_type": "code",
   "execution_count": 95,
   "metadata": {},
   "outputs": [
    {
     "name": "stdout",
     "output_type": "stream",
     "text": [
      "time start\n",
      "time end\n",
      "time start\n",
      "time end\n"
     ]
    }
   ],
   "source": [
    "model = BayesianCNN(num_samples=100)\n",
    "out = model(torch.rand(64, 1, 1, 28, 28))\n"
   ]
  },
  {
   "cell_type": "code",
   "execution_count": 81,
   "metadata": {},
   "outputs": [
    {
     "data": {
      "text/plain": [
       "torch.Size([64, 100, 10])"
      ]
     },
     "execution_count": 81,
     "metadata": {},
     "output_type": "execute_result"
    }
   ],
   "source": [
    "out[0].shape"
   ]
  },
  {
   "cell_type": "code",
   "execution_count": 79,
   "metadata": {},
   "outputs": [
    {
     "data": {
      "text/plain": [
       "(torch.Size([64, 100, 10]), tensor(283435.2188, grad_fn=<AddBackward0>))"
      ]
     },
     "execution_count": 79,
     "metadata": {},
     "output_type": "execute_result"
    }
   ],
   "source": [
    "out[0].shape, out[1]"
   ]
  },
  {
   "cell_type": "markdown",
   "metadata": {},
   "source": [
    "### Train and evaluate"
   ]
  },
  {
   "cell_type": "code",
   "execution_count": 21,
   "metadata": {},
   "outputs": [],
   "source": [
    "def evaluate(model, data_loader, device):\n",
    "    model.eval()  # Set the model to evaluation mode\n",
    "    correct = 0\n",
    "    total = 0\n",
    "\n",
    "    with torch.no_grad():  # Disable gradient computation\n",
    "        # with tqdm(data_loader, unit=\"batch\") as tepoch:\n",
    "        #     tepoch.set_description(\"Evaluating\")\n",
    "        for images, labels in data_loader:\n",
    "            images, labels = images.to(device), labels.to(device)\n",
    "\n",
    "            # Forward pass\n",
    "            outputs = model(images)\n",
    "            if len(outputs) == 2: outputs = outputs[0]\n",
    "\n",
    "            # Compute predictions and update accuracy metrics\n",
    "            preds = torch.argmax(outputs, dim=1)\n",
    "            correct += (preds == labels).sum().item()\n",
    "            total += labels.size(0)\n",
    "\n",
    "            # Display current accuracy in the progress bar\n",
    "            accuracy = 100 * correct / total\n",
    "    accuracy = 100 * correct / total  # Overall accuracy\n",
    "    return accuracy\n",
    "\n",
    "def train_validate_and_evaluate(model, optimizer, device, epochs, train_loader, test_loader, val_loader, criterion=None, use_kl=True):\n",
    "    # Total number of batches across all epochs\n",
    "    total_steps = len(train_loader) * epochs\n",
    "    losses = []\n",
    "    val_accuracies = []\n",
    "\n",
    "    # Single progress bar for all epochs\n",
    "    with tqdm(total=total_steps, unit=\"batch\") as pbar:\n",
    "        for epoch in range(epochs):\n",
    "            model.train()\n",
    "            total_combined_loss = 0.0\n",
    "            \n",
    "            for images, labels in train_loader:\n",
    "                images, labels = images.to(device), labels.to(device)\n",
    "                \n",
    "                # One-hot encode labels\n",
    "                one_hot_labels = F.one_hot(labels, num_classes=10).float()\n",
    "                \n",
    "                # Forward pass\n",
    "                outputs = model(images)\n",
    "                if len(outputs) == 2:\n",
    "                    logits, kl_loss = outputs\n",
    "                else:\n",
    "                    logits = outputs\n",
    "                \n",
    "                # Apply softmax to logits\n",
    "                softmax_outputs = F.softmax(logits, dim=1)\n",
    "                \n",
    "                # Cross-entropy loss with one-hot labels\n",
    "                combined_loss = 0.0\n",
    "                if criterion: combined_loss += criterion(softmax_outputs, one_hot_labels)\n",
    "                if use_kl: combined_loss += kl_loss\n",
    "                \n",
    "                # Backward pass\n",
    "                optimizer.zero_grad()\n",
    "                combined_loss.backward()\n",
    "                optimizer.step()\n",
    "                \n",
    "                # Update metrics\n",
    "                total_combined_loss += combined_loss.item()\n",
    "                \n",
    "                # Update the progress bar dynamically\n",
    "                pbar.set_description(f\"Epoch {epoch + 1}/{epochs}\")\n",
    "                pbar.set_postfix(combined_loss=combined_loss.item())\n",
    "                pbar.update(1)\n",
    "            \n",
    "            avg_combined_loss = total_combined_loss / len(train_loader)\n",
    "            losses.append(avg_combined_loss)\n",
    "            print(f\"Epoch {epoch + 1}/{epochs}, Avg Combined Loss: {avg_combined_loss:.4f}\")\n",
    "            val_acc = evaluate(model, val_loader, device)\n",
    "            val_accuracies.append(val_acc)\n",
    "            print(f\"Val Acc: {val_acc:.2f}%\")\n",
    "\n",
    "    print(\"Training complete.\")\n",
    "\n",
    "    test_acc = evaluate(model, test_loader, device)\n",
    "    print(f\"Testing complete. Test Acc: {test_acc:.2f}%\")\n",
    "\n",
    "    # Create a line plot\n",
    "    sns.lineplot(x=np.arange(epochs), y=losses)\n",
    "\n",
    "    # Add labels and title\n",
    "    plt.xlabel(\"Epoch\")\n",
    "    plt.ylabel(\"Loss\")\n",
    "    plt.title(\"Loss vs. Epoch\")\n",
    "\n",
    "    # Show the plot\n",
    "    plt.show()\n",
    "\n",
    "    # Create a line plot\n",
    "    sns.lineplot(x=np.arange(epochs), y=val_accuracies)\n",
    "\n",
    "    # Add labels and title\n",
    "    plt.xlabel(\"Epoch\")\n",
    "    plt.ylabel(\"Val Accuracy\")\n",
    "    plt.title(\"Val Accuracy vs. Epoch\")\n",
    "\n",
    "    # Show the plot\n",
    "    plt.show()"
   ]
  },
  {
   "cell_type": "markdown",
   "metadata": {},
   "source": [
    "### Train Non Bayesian CNN"
   ]
  },
  {
   "cell_type": "code",
   "execution_count": 22,
   "metadata": {},
   "outputs": [
    {
     "data": {
      "application/vnd.jupyter.widget-view+json": {
       "model_id": "1527e79d6f7442409fc490da34348346",
       "version_major": 2,
       "version_minor": 0
      },
      "text/plain": [
       "  0%|          | 0/7500 [00:00<?, ?batch/s]"
      ]
     },
     "metadata": {},
     "output_type": "display_data"
    },
    {
     "name": "stdout",
     "output_type": "stream",
     "text": [
      "Epoch 1/10, Avg Combined Loss: 1.5372\n",
      "Val Acc: 96.86%\n",
      "Epoch 2/10, Avg Combined Loss: 1.4839\n",
      "Val Acc: 97.84%\n",
      "Epoch 3/10, Avg Combined Loss: 1.4775\n",
      "Val Acc: 97.86%\n",
      "Epoch 4/10, Avg Combined Loss: 1.4760\n",
      "Val Acc: 98.13%\n",
      "Epoch 5/10, Avg Combined Loss: 1.4742\n",
      "Val Acc: 98.07%\n",
      "Epoch 6/10, Avg Combined Loss: 1.4725\n",
      "Val Acc: 98.33%\n",
      "Epoch 7/10, Avg Combined Loss: 1.4712\n",
      "Val Acc: 98.25%\n",
      "Epoch 8/10, Avg Combined Loss: 1.4706\n",
      "Val Acc: 98.07%\n",
      "Epoch 9/10, Avg Combined Loss: 1.4701\n",
      "Val Acc: 98.31%\n",
      "Epoch 10/10, Avg Combined Loss: 1.4699\n",
      "Val Acc: 98.33%\n",
      "Training complete.\n",
      "Testing complete. Test Acc: 98.58%\n"
     ]
    },
    {
     "data": {
      "image/png": "[encoded data removed]",
      "text/plain": [
       "<Figure size 432x288 with 1 Axes>"
      ]
     },
     "metadata": {},
     "output_type": "display_data"
    },
    {
     "data": {
      "image/png": "[encoded data removed]",
      "text/plain": [
       "<Figure size 432x288 with 1 Axes>"
      ]
     },
     "metadata": {},
     "output_type": "display_data"
    }
   ],
   "source": [
    "# Hyperparameters\n",
    "batch_size = 64\n",
    "learning_rate = 0.001\n",
    "epochs = 10\n",
    "\n",
    "device = torch.device(\"cuda\" if torch.cuda.is_available() else \"cpu\")\n",
    "\n",
    "# Model, optimizer, and loss function\n",
    "model = NonBayesianCNN().to(device)\n",
    "optimizer = optim.Adam(model.parameters(), lr=learning_rate)\n",
    "criterion = nn.CrossEntropyLoss()\n",
    "\n",
    "train_validate_and_evaluate(model, optimizer, device, epochs, train_loader, test_loader, val_loader, criterion=criterion, use_kl=False)"
   ]
  },
  {
   "cell_type": "markdown",
   "metadata": {},
   "source": [
    "### Train Bayesian CNN"
   ]
  },
  {
   "cell_type": "code",
   "execution_count": 9,
   "metadata": {},
   "outputs": [
    {
     "data": {
      "application/vnd.jupyter.widget-view+json": {
       "model_id": "dc1d2de73c3b4504b89fac25c25a0025",
       "version_major": 2,
       "version_minor": 0
      },
      "text/plain": [
       "  0%|          | 0/7500 [00:00<?, ?batch/s]"
      ]
     },
     "metadata": {},
     "output_type": "display_data"
    },
    {
     "name": "stdout",
     "output_type": "stream",
     "text": [
      "Epoch 1/10, Avg Combined Loss: 4.9407\n",
      "Val Acc: 70.47%\n",
      "Epoch 2/10, Avg Combined Loss: 2.4074\n",
      "Val Acc: 81.80%\n",
      "Epoch 3/10, Avg Combined Loss: 2.0278\n",
      "Val Acc: 84.17%\n",
      "Epoch 4/10, Avg Combined Loss: 1.9138\n",
      "Val Acc: 84.78%\n",
      "Epoch 5/10, Avg Combined Loss: 1.8649\n",
      "Val Acc: 85.98%\n",
      "Epoch 6/10, Avg Combined Loss: 1.8309\n",
      "Val Acc: 84.62%\n",
      "Epoch 7/10, Avg Combined Loss: 1.8130\n",
      "Val Acc: 85.02%\n",
      "Epoch 8/10, Avg Combined Loss: 1.7971\n",
      "Val Acc: 84.47%\n",
      "Epoch 9/10, Avg Combined Loss: 1.7905\n",
      "Val Acc: 85.56%\n",
      "Epoch 10/10, Avg Combined Loss: 1.7834\n",
      "Val Acc: 86.47%\n",
      "Training complete.\n",
      "Testing complete. Test Acc: 87.46%\n"
     ]
    },
    {
     "data": {
      "image/png": "[encoded data removed]",
      "text/plain": [
       "<Figure size 432x288 with 1 Axes>"
      ]
     },
     "metadata": {},
     "output_type": "display_data"
    },
    {
     "data": {
      "image/png": "[encoded data removed]",
      "text/plain": [
       "<Figure size 432x288 with 1 Axes>"
      ]
     },
     "metadata": {},
     "output_type": "display_data"
    }
   ],
   "source": [
    "# Hyperparameters\n",
    "batch_size = 64\n",
    "learning_rate = 0.001\n",
    "epochs = 10\n",
    "\n",
    "device = torch.device(\"cuda\" if torch.cuda.is_available() else \"cpu\")\n",
    "\n",
    "# Model, optimizer, and loss function\n",
    "model = BayesianCNN().to(device)\n",
    "optimizer = optim.Adam(model.parameters(), lr=learning_rate)\n",
    "criterion = nn.CrossEntropyLoss()\n",
    "\n",
    "train_validate_and_evaluate(model, optimizer, device, epochs, train_loader, test_loader, val_loader, criterion=criterion, use_kl=True)"
   ]
  }
 ],
 "metadata": {
  "kernelspec": {
   "display_name": "Python 3",
   "language": "python",
   "name": "python3"
  },
  "language_info": {
   "codemirror_mode": {
    "name": "ipython",
    "version": 3
   },
   "file_extension": ".py",
   "mimetype": "text/x-python",
   "name": "python",
   "nbconvert_exporter": "python",
   "pygments_lexer": "ipython3",
   "version": "3.12.2"
  }
 },
 "nbformat": 4,
 "nbformat_minor": 2
}
