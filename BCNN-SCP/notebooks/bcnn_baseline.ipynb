{
 "cells": [
  {
   "cell_type": "markdown",
   "metadata": {},
   "source": [
    "### Imports"
   ]
  },
  {
   "cell_type": "code",
   "execution_count": 33,
   "metadata": {},
   "outputs": [],
   "source": [
    "# imports\n",
    "import numpy as np\n",
    "\n",
    "import torch\n",
    "import gpytorch\n",
    "from torchvision import datasets, transforms\n",
    "from torch.utils.data import DataLoader, random_split\n",
    "import matplotlib.pyplot as plt\n",
    "import seaborn as sns\n",
    "\n",
    "import torch.nn as nn\n",
    "import torch.nn.functional as F\n",
    "import torch.optim as optim\n",
    "from torch.distributions import Normal\n",
    "\n",
    "from tqdm.notebook import tqdm\n",
    "\n",
    "# Seaborn style for visualization\n",
    "sns.set_theme(style=\"whitegrid\")"
   ]
  },
  {
   "cell_type": "code",
   "execution_count": 34,
   "metadata": {},
   "outputs": [],
   "source": [
    "from abc import ABC, abstractmethod\n",
    "\n",
    "\n",
    "class SpatialCovariance(ABC):\n",
    "    def __call__(self, w, h):\n",
    "        xs = torch.linspace(0, 1, w)\n",
    "        ys = torch.linspace(0, 1, h)\n",
    "        points = [torch.tensor([x, y], dtype=torch.float) for x in xs for y in ys]\n",
    "        covar = torch.zeros(len(points), len(points))\n",
    "        for i in range(len(points)):\n",
    "            for j in range(i, len(points)):\n",
    "                x = points[i]\n",
    "                y = points[j]\n",
    "                covar[i, j] = self.kernel(x, y)\n",
    "                covar[j, i] = covar[i, j]\n",
    "        return covar\n",
    "\n",
    "    @abstractmethod\n",
    "    def kernel(self, x, y):\n",
    "        raise NotImplementedError\n",
    "\n",
    "\n",
    "class RBFCovariance(SpatialCovariance):\n",
    "    def __init__(self, a, l):\n",
    "        self.a = a\n",
    "        self.l = l\n",
    "\n",
    "    def kernel(self, x, y):\n",
    "        diff = torch.norm(x - y)\n",
    "        return self.a * torch.exp(-(diff**2) / (2 * self.l**2))"
   ]
  },
  {
   "cell_type": "markdown",
   "metadata": {},
   "source": [
    "### Dataset and dataloader setup"
   ]
  },
  {
   "cell_type": "code",
   "execution_count": 35,
   "metadata": {},
   "outputs": [],
   "source": [
    "# Set up data transformations\n",
    "transform = transforms.Compose([\n",
    "    transforms.ToTensor(),  # Convert to tensor\n",
    "    transforms.Normalize((0.5,), (0.5,))  # Normalize to mean=0.5 and std=0.5\n",
    "])\n",
    "\n",
    "# Download and load the MNIST dataset\n",
    "dataset = datasets.MNIST(root='../data', train=True, transform=transform, download=True)\n",
    "test_dataset = datasets.MNIST(root='../data', train=False, transform=transform, download=True)"
   ]
  },
  {
   "cell_type": "code",
   "execution_count": 36,
   "metadata": {},
   "outputs": [],
   "source": [
    "# Split the training dataset into train and validation subsets\n",
    "train_size = int(0.8 * len(dataset))  # 80% for training\n",
    "val_size = len(dataset) - train_size  # 20% for validation\n",
    "train_dataset, val_dataset = random_split(dataset, [train_size, val_size])\n",
    "\n",
    "# Create dataloaders\n",
    "batch_size = 64\n",
    "train_loader = DataLoader(train_dataset, batch_size=batch_size, shuffle=True)\n",
    "val_loader = DataLoader(val_dataset, batch_size=batch_size, shuffle=False)\n",
    "test_loader = DataLoader(test_dataset, batch_size=batch_size, shuffle=False)"
   ]
  },
  {
   "cell_type": "markdown",
   "metadata": {},
   "source": [
    "### Visualising images"
   ]
  },
  {
   "cell_type": "code",
   "execution_count": 37,
   "metadata": {},
   "outputs": [],
   "source": [
    "# Function to visualize a batch of images\n",
    "def visualize_images(dataloader, title=\"Images\"):\n",
    "    # Get a batch of images\n",
    "    images, labels = next(iter(dataloader))\n",
    "\n",
    "    # Denormalize images for visualization\n",
    "    images = images * 0.5 + 0.5  # Reverse normalization to [0, 1]\n",
    "\n",
    "    # Set up the figure\n",
    "    fig, axes = plt.subplots(2, 4, figsize=(8, 4))\n",
    "    fig.suptitle(title, fontsize=16)\n",
    "    axes = axes.flatten()\n",
    "\n",
    "    for img, label, ax in zip(images[:8], labels[:8], axes):\n",
    "        ax.imshow(img.squeeze(), cmap='gray')  # Display the single-channel image\n",
    "        ax.set_title(f\"Label: {label.item()}\")\n",
    "        ax.axis('off')\n",
    "\n",
    "    plt.tight_layout()\n",
    "    plt.show()"
   ]
  },
  {
   "cell_type": "code",
   "execution_count": 38,
   "metadata": {},
   "outputs": [
    {
     "data": {
      "image/png": "[encoded data removed]",
      "text/plain": [
       "<Figure size 800x400 with 8 Axes>"
      ]
     },
     "metadata": {},
     "output_type": "display_data"
    }
   ],
   "source": [
    "# Visualize train, validation, and test batches\n",
    "visualize_images(train_loader, title=\"Visualise images\")"
   ]
  },
  {
   "cell_type": "markdown",
   "metadata": {},
   "source": [
    "### Baseline B-CNN"
   ]
  },
  {
   "cell_type": "code",
   "execution_count": 39,
   "metadata": {},
   "outputs": [],
   "source": [
    "def KL_DIV(mu_p, sig_p, mu_q, sig_q):\n",
    "    kl = 0\n",
    "    kernel_size = sig_q.shape[1]\n",
    "    blocks = sig_q.shape[0]\n",
    "    n = sig_q.shape[1]\n",
    "    sig_p_inv = torch.linalg.pinv(sig_p)\n",
    "    term_1_2 = torch.logdet(sig_p)\n",
    "    for i in range(blocks):\n",
    "        term_1_1 = torch.logdet(sig_q[i,:,:])\n",
    "        term_1 =  term_1_1 - term_1_2\n",
    "        term_3 = torch.trace(sig_p_inv @ sig_q[i,:,:])\n",
    "        mu_diff = (mu_q[kernel_size*i:kernel_size*(i+1)] - mu_p[kernel_size*i:kernel_size*(i+1)])\n",
    "        loss = (term_1 + n - term_3 - (mu_diff).T @ sig_p_inv @ (mu_diff))\n",
    "        # print(\"term11\", term_1_1)\n",
    "        # print(\"term12\", term_1_2)\n",
    "        # print(\"term3\", term_3)\n",
    "        # print(\"sig_p_inv\", sig_p_inv)\n",
    "        kl += loss\n",
    "\n",
    "    return -0.5*kl\n",
    "\n",
    "\n",
    "class RBF(gpytorch.kernels.RBFKernel):\n",
    "    def __init__(self, a, **kwargs):\n",
    "        super().__init__(**kwargs)\n",
    "        self.outputscale = a\n",
    "\n",
    "    def forward(self, x1, x2, **params):\n",
    "        # covar = super().forward(x1, x2, **params)\n",
    "        covar = torch.eye(x1.shape[0])\n",
    "        return covar * self.outputscale\n",
    "\n",
    "class BBBConv2d(nn.Module):\n",
    "    def __init__(self, in_channels, out_channels, kernel_size,\n",
    "                 stride=1, padding=0, dilation=1, priors=None, num_samples=1):\n",
    "\n",
    "        super(BBBConv2d, self).__init__()\n",
    "        self.in_channels = in_channels\n",
    "        self.out_channels = out_channels\n",
    "        self.kernel_shape = kernel_size if isinstance(kernel_size, tuple) else (kernel_size, kernel_size)\n",
    "        self.kernel_size = self.kernel_shape[0] * self.kernel_shape[1]\n",
    "        self.stride = stride\n",
    "        self.padding = padding\n",
    "        self.dilation = dilation\n",
    "        self.groups = 1\n",
    "        self.device = torch.device(\"cuda:0\" if torch.cuda.is_available() else \"cpu\")\n",
    "        self.num_samples = num_samples\n",
    "\n",
    "        prior_mu = torch.zeros(self.kernel_size*in_channels*out_channels,)\n",
    "        rbf_kernel = RBFCovariance(1, 1)\n",
    "        prior_covariance_matrix = rbf_kernel(self.kernel_shape[0], self.kernel_shape[1])\n",
    "\n",
    "        grid_size = self.kernel_shape[0]\n",
    "        x = torch.linspace(0, 1, grid_size)\n",
    "        y = torch.linspace(0, 1, grid_size)\n",
    "        xx, yy = torch.meshgrid(x, y, indexing=\"ij\")\n",
    "        self.points = torch.stack([xx.ravel(), yy.ravel()], dim=-1)\n",
    "        self.counter = 0\n",
    "\n",
    "        if priors is None:\n",
    "            priors = {\n",
    "                'prior_mu': prior_mu,\n",
    "                'prior_cov': prior_covariance_matrix\n",
    "            }\n",
    "\n",
    "        # prior mean and convariance\n",
    "\n",
    "        self.prior_mu = priors['prior_mu']\n",
    "        self.prior_cov = priors['prior_cov']\n",
    "\n",
    "        # kernel for weight paramters (W_mu and W_sigma)\n",
    "        # a and l are learnable here\n",
    "\n",
    "        self.a = nn.Parameter(1+torch.rand(in_channels*out_channels))\n",
    "        self.l = nn.Parameter(1+torch.rand(in_channels*out_channels))\n",
    "\n",
    "        self.W_mu = nn.Parameter(torch.rand(in_channels*out_channels*self.kernel_size))\n",
    "        self.sampled_weights = torch.rand((self.num_samples,) + self.W_mu.shape)\n",
    "\n",
    "    def forward(self, input, sample=True):\n",
    "        # (B,S,C,H,W)\n",
    "        if self.training or sample:\n",
    "            # W_mu, a and l are learnable parameters\n",
    "            self.sample_weights()\n",
    "\n",
    "            # now we have sampled \"num_samples\" at once\n",
    "            # we iterate through the S dimension and run each set of weights for each sample\n",
    "            # it is guarenteed that self.num_samples matches with S (except for first layer, where input will have S = 1)\n",
    "            S = input.shape[1]\n",
    "            outputs = []\n",
    "            for i in range(self.num_samples):\n",
    "                weight = self.sampled_weights[i,:].view(self.out_channels, self.in_channels, self.kernel_shape[0], self.kernel_shape[1])\n",
    "\n",
    "                input_index = 0 if S == 1 else i\n",
    "                outputs.append(F.conv2d(input[:,input_index,:,:,:], weight, None, self.stride, self.padding, self.dilation, self.groups))\n",
    "            return torch.stack(outputs, dim=1)\n",
    "        else:\n",
    "            weight = self.W_mu.view(self.out_channels, self.in_channels, self.kernel_shape[0], self.kernel_shape[1])\n",
    "            return F.conv2d(input[:,0,:,:,:], weight, None, self.stride, self.padding, self.dilation, self.groups)\n",
    "\n",
    "    def kl_loss(self):\n",
    "        return KL_DIV(self.prior_mu, self.prior_cov, self.W_mu, self.W_cov)\n",
    "\n",
    "    def sample_weights(self):\n",
    "        blocks = []\n",
    "        for i in range(self.in_channels*self.out_channels):\n",
    "            # different a and l for different filter (x,y)\n",
    "            rbf_kernel = RBFCovariance(self.a[i], self.l[i])\n",
    "\n",
    "            filterwise_covariance_matrix = rbf_kernel(self.kernel_shape[0], self.kernel_shape[1])\n",
    "            jitter = 1e-6 * torch.eye(filterwise_covariance_matrix.size(0))\n",
    "            filterwise_covariance_matrix += jitter\n",
    "\n",
    "            # samples \"num_samples\" weights at once\n",
    "            mvn = torch.distributions.MultivariateNormal(self.W_mu[self.kernel_size*i : self.kernel_size*i+self.kernel_size], filterwise_covariance_matrix)\n",
    "            self.sampled_weights[:, self.kernel_size*i : self.kernel_size*i+self.kernel_size] = mvn.sample((self.num_samples,))\n",
    "\n",
    "            self.counter+=1\n",
    "\n",
    "            blocks.append(filterwise_covariance_matrix)\n",
    "\n",
    "        self.W_cov = torch.stack(blocks) # concats only the blocks of the block diagonal covariance matrix\n",
    "\n",
    "class BayesianCNN(nn.Module):\n",
    "    def __init__(self, num_samples=1):\n",
    "        super(BayesianCNN, self).__init__()\n",
    "        self.conv1 = BBBConv2d(1, 32, kernel_size=3, stride=1, padding=1, num_samples=num_samples)\n",
    "        self.conv2 = BBBConv2d(32, 64, kernel_size=3, stride=1, padding=1, num_samples=num_samples)\n",
    "        self.pool = nn.MaxPool2d(kernel_size=2, stride=2)\n",
    "        self.fc1 = nn.Linear(64 * 14 * 14, 128)\n",
    "        self.fc2 = nn.Linear(128, 10)\n",
    "        self.num_samples = num_samples\n",
    "\n",
    "    def forward(self, x_in):\n",
    "        x = x_in.unsqueeze(1)\n",
    "        x = torch.relu(self.conv1(x))\n",
    "        x = torch.relu(self.conv2(x))\n",
    "        y=[]\n",
    "        for i in range(self.num_samples):\n",
    "            y.append(self.pool(x[:,i,:,:,:]))\n",
    "        y = torch.stack(y, dim=1)\n",
    "        y = y.view(y.size(0), y.size(1), -1)  # Flatten\n",
    "        y = torch.relu(self.fc1(y))\n",
    "        y = self.fc2(y)\n",
    "        y = F.log_softmax(y, dim=2)\n",
    "\n",
    "        kl = 0.0\n",
    "        for module in self.children():\n",
    "            if hasattr(module, 'kl_loss'):\n",
    "                module_kl_loss = module.kl_loss()\n",
    "                kl = kl + module_kl_loss\n",
    "\n",
    "        return y, kl\n",
    "\n",
    "class NonBayesianCNN(nn.Module):\n",
    "    def __init__(self):\n",
    "        super(NonBayesianCNN, self).__init__()\n",
    "        self.conv1 = nn.Conv2d(1, 32, kernel_size=3, stride=1, padding=1)\n",
    "        self.conv2 = nn.Conv2d(32, 64, kernel_size=3, stride=1, padding=1)\n",
    "        self.pool = nn.MaxPool2d(kernel_size=2, stride=2)\n",
    "        self.fc1 = nn.Linear(64 * 14 * 14, 128)\n",
    "        self.fc2 = nn.Linear(128, 10)\n",
    "\n",
    "    def forward(self, x):\n",
    "        x = torch.relu(self.conv1(x))\n",
    "        x = self.pool(torch.relu(self.conv2(x)))\n",
    "        x = x.view(x.size(0), -1)  # Flatten\n",
    "        x = torch.relu(self.fc1(x))\n",
    "        x = self.fc2(x)\n",
    "\n",
    "        return x"
   ]
  },
  {
   "cell_type": "code",
   "execution_count": 40,
   "metadata": {},
   "outputs": [
    {
     "data": {
      "text/plain": [
       "torch.Size([64, 100, 32, 7, 7])"
      ]
     },
     "execution_count": 40,
     "metadata": {},
     "output_type": "execute_result"
    }
   ],
   "source": [
    "model=BBBConv2d(1,32,3,num_samples=100)\n",
    "model(torch.rand(64, 1, 1, 9, 9)).shape"
   ]
  },
  {
   "cell_type": "code",
   "execution_count": 42,
   "metadata": {},
   "outputs": [],
   "source": [
    "model = BayesianCNN(num_samples=100)\n",
    "out = model(torch.rand(64, 1, 28, 28))\n"
   ]
  },
  {
   "cell_type": "code",
   "execution_count": 43,
   "metadata": {},
   "outputs": [
    {
     "data": {
      "text/plain": [
       "torch.Size([64, 100, 10])"
      ]
     },
     "execution_count": 43,
     "metadata": {},
     "output_type": "execute_result"
    }
   ],
   "source": [
    "out[0].shape"
   ]
  },
  {
   "cell_type": "code",
   "execution_count": 44,
   "metadata": {},
   "outputs": [
    {
     "data": {
      "text/plain": [
       "(torch.Size([64, 100, 10]), tensor(271874.1250, grad_fn=<AddBackward0>))"
      ]
     },
     "execution_count": 44,
     "metadata": {},
     "output_type": "execute_result"
    }
   ],
   "source": [
    "out[0].shape, out[1]"
   ]
  },
  {
   "cell_type": "markdown",
   "metadata": {},
   "source": [
    "### Train and evaluate"
   ]
  },
  {
   "cell_type": "code",
   "execution_count": 45,
   "metadata": {},
   "outputs": [],
   "source": [
    "def evaluate(model, data_loader, device):\n",
    "    model.eval()  # Set the model to evaluation mode\n",
    "    correct = 0\n",
    "    total = 0\n",
    "\n",
    "    with torch.no_grad():  # Disable gradient computation\n",
    "        # with tqdm(data_loader, unit=\"batch\") as tepoch:\n",
    "        #     tepoch.set_description(\"Evaluating\")\n",
    "        for images, labels in data_loader:\n",
    "            images, labels = images.to(device), labels.to(device)\n",
    "\n",
    "            # Forward pass\n",
    "            outputs = model(images)\n",
    "            if len(outputs) == 2: outputs = outputs[0]\n",
    "\n",
    "            # Compute predictions and update accuracy metrics\n",
    "            preds = torch.argmax(outputs, dim=1)\n",
    "            correct += (preds == labels).sum().item()\n",
    "            total += labels.size(0)\n",
    "\n",
    "            # Display current accuracy in the progress bar\n",
    "            accuracy = 100 * correct / total\n",
    "    accuracy = 100 * correct / total  # Overall accuracy\n",
    "    return accuracy\n",
    "\n",
    "def train_validate_and_evaluate(model, optimizer, device, epochs, train_loader, test_loader, val_loader, criterion=None, use_kl=True):\n",
    "    # Total number of batches across all epochs\n",
    "    total_steps = len(train_loader) * epochs\n",
    "    losses = []\n",
    "    val_accuracies = []\n",
    "\n",
    "    # Single progress bar for all epochs\n",
    "    with tqdm(total=total_steps, unit=\"batch\") as pbar:\n",
    "        for epoch in range(epochs):\n",
    "            model.train()\n",
    "            total_combined_loss = 0.0\n",
    "\n",
    "            for images, labels in train_loader:\n",
    "                images, labels = images.to(device), labels.to(device)\n",
    "\n",
    "                # # One-hot encode labels\n",
    "                # one_hot_labels = F.one_hot(labels, num_classes=10).float()\n",
    "\n",
    "                # Forward pass\n",
    "                outputs = model(images)\n",
    "                if len(outputs) == 2:\n",
    "                    logits, kl_loss = outputs\n",
    "                else:\n",
    "                    logits = outputs\n",
    "\n",
    "                # # Apply softmax to logits\n",
    "                # softmax_outputs = F.softmax(logits, dim=1)\n",
    "\n",
    "                # Average cross entropy loss across all samples\n",
    "                if len(logits.shape) == 3:\n",
    "                    logits = logits.permute(0, 2, 1) # (batch_size, num_samples, num_classes) -> (batch_size, num_classes, num_samples)\n",
    "                    labels = labels.unsqueeze(-1) # (batch_size, ) -> (batch_size, 1)\n",
    "                    labels = labels.expand(-1, logits.shape[-1]) # (batch_size, 1) -> (batch_size, num_samples)\n",
    "\n",
    "                cross_entropy_loss = F.cross_entropy(logits, labels)\n",
    "\n",
    "                # Cross-entropy loss with one-hot labels\n",
    "                combined_loss = 0.0\n",
    "                if criterion: combined_loss += cross_entropy_loss\n",
    "                if use_kl: combined_loss += kl_loss\n",
    "\n",
    "                # Backward pass\n",
    "                optimizer.zero_grad()\n",
    "                combined_loss.backward()\n",
    "                optimizer.step()\n",
    "\n",
    "                # Update metrics\n",
    "                total_combined_loss += combined_loss.item()\n",
    "\n",
    "                # Update the progress bar dynamically\n",
    "                pbar.set_description(f\"Epoch {epoch + 1}/{epochs}\")\n",
    "                pbar.set_postfix(combined_loss=combined_loss.item())\n",
    "                pbar.update(1)\n",
    "\n",
    "            avg_combined_loss = total_combined_loss / len(train_loader)\n",
    "            losses.append(avg_combined_loss)\n",
    "            print(f\"Epoch {epoch + 1}/{epochs}, Avg Combined Loss: {avg_combined_loss:.4f}\")\n",
    "            val_acc = evaluate(model, val_loader, device)\n",
    "            val_accuracies.append(val_acc)\n",
    "            print(f\"Val Acc: {val_acc:.2f}%\")\n",
    "\n",
    "    print(\"Training complete.\")\n",
    "\n",
    "    test_acc = evaluate(model, test_loader, device)\n",
    "    print(f\"Testing complete. Test Acc: {test_acc:.2f}%\")\n",
    "\n",
    "    # Create a line plot\n",
    "    sns.lineplot(x=np.arange(epochs), y=losses)\n",
    "\n",
    "    # Add labels and title\n",
    "    plt.xlabel(\"Epoch\")\n",
    "    plt.ylabel(\"Loss\")\n",
    "    plt.title(\"Loss vs. Epoch\")\n",
    "\n",
    "    # Show the plot\n",
    "    plt.show()\n",
    "\n",
    "    # Create a line plot\n",
    "    sns.lineplot(x=np.arange(epochs), y=val_accuracies)\n",
    "\n",
    "    # Add labels and title\n",
    "    plt.xlabel(\"Epoch\")\n",
    "    plt.ylabel(\"Val Accuracy\")\n",
    "    plt.title(\"Val Accuracy vs. Epoch\")\n",
    "\n",
    "    # Show the plot\n",
    "    plt.show()"
   ]
  },
  {
   "cell_type": "markdown",
   "metadata": {},
   "source": [
    "### Train Non Bayesian CNN"
   ]
  },
  {
   "cell_type": "code",
   "execution_count": 46,
   "metadata": {},
   "outputs": [
    {
     "data": {
      "application/vnd.jupyter.widget-view+json": {
       "model_id": "9c48fb7f891b467a8dfaac368da30eac",
       "version_major": 2,
       "version_minor": 0
      },
      "text/plain": [
       "  0%|          | 0/7500 [00:00<?, ?batch/s]"
      ]
     },
     "metadata": {},
     "output_type": "display_data"
    },
    {
     "ename": "KeyboardInterrupt",
     "evalue": "",
     "output_type": "error",
     "traceback": [
      "\u001b[0;31m---------------------------------------------------------------------------\u001b[0m",
      "\u001b[0;31mKeyboardInterrupt\u001b[0m                         Traceback (most recent call last)",
      "Cell \u001b[0;32mIn[46], line 13\u001b[0m\n\u001b[1;32m     10\u001b[0m optimizer \u001b[38;5;241m=\u001b[39m optim\u001b[38;5;241m.\u001b[39mAdam(model\u001b[38;5;241m.\u001b[39mparameters(), lr\u001b[38;5;241m=\u001b[39mlearning_rate)\n\u001b[1;32m     11\u001b[0m criterion \u001b[38;5;241m=\u001b[39m nn\u001b[38;5;241m.\u001b[39mCrossEntropyLoss()\n\u001b[0;32m---> 13\u001b[0m \u001b[43mtrain_validate_and_evaluate\u001b[49m\u001b[43m(\u001b[49m\u001b[43mmodel\u001b[49m\u001b[43m,\u001b[49m\u001b[43m \u001b[49m\u001b[43moptimizer\u001b[49m\u001b[43m,\u001b[49m\u001b[43m \u001b[49m\u001b[43mdevice\u001b[49m\u001b[43m,\u001b[49m\u001b[43m \u001b[49m\u001b[43mepochs\u001b[49m\u001b[43m,\u001b[49m\u001b[43m \u001b[49m\u001b[43mtrain_loader\u001b[49m\u001b[43m,\u001b[49m\u001b[43m \u001b[49m\u001b[43mtest_loader\u001b[49m\u001b[43m,\u001b[49m\u001b[43m \u001b[49m\u001b[43mval_loader\u001b[49m\u001b[43m,\u001b[49m\u001b[43m \u001b[49m\u001b[43mcriterion\u001b[49m\u001b[38;5;241;43m=\u001b[39;49m\u001b[43mcriterion\u001b[49m\u001b[43m,\u001b[49m\u001b[43m \u001b[49m\u001b[43muse_kl\u001b[49m\u001b[38;5;241;43m=\u001b[39;49m\u001b[38;5;28;43;01mFalse\u001b[39;49;00m\u001b[43m)\u001b[49m\n",
      "Cell \u001b[0;32mIn[45], line 69\u001b[0m, in \u001b[0;36mtrain_validate_and_evaluate\u001b[0;34m(model, optimizer, device, epochs, train_loader, test_loader, val_loader, criterion, use_kl)\u001b[0m\n\u001b[1;32m     67\u001b[0m \u001b[38;5;66;03m# Backward pass\u001b[39;00m\n\u001b[1;32m     68\u001b[0m optimizer\u001b[38;5;241m.\u001b[39mzero_grad()\n\u001b[0;32m---> 69\u001b[0m \u001b[43mcombined_loss\u001b[49m\u001b[38;5;241;43m.\u001b[39;49m\u001b[43mbackward\u001b[49m\u001b[43m(\u001b[49m\u001b[43m)\u001b[49m\n\u001b[1;32m     70\u001b[0m optimizer\u001b[38;5;241m.\u001b[39mstep()\n\u001b[1;32m     72\u001b[0m \u001b[38;5;66;03m# Update metrics\u001b[39;00m\n",
      "File \u001b[0;32m/opt/homebrew/Caskroom/miniconda/base/envs/bml/lib/python3.12/site-packages/torch/_tensor.py:581\u001b[0m, in \u001b[0;36mTensor.backward\u001b[0;34m(self, gradient, retain_graph, create_graph, inputs)\u001b[0m\n\u001b[1;32m    571\u001b[0m \u001b[38;5;28;01mif\u001b[39;00m has_torch_function_unary(\u001b[38;5;28mself\u001b[39m):\n\u001b[1;32m    572\u001b[0m     \u001b[38;5;28;01mreturn\u001b[39;00m handle_torch_function(\n\u001b[1;32m    573\u001b[0m         Tensor\u001b[38;5;241m.\u001b[39mbackward,\n\u001b[1;32m    574\u001b[0m         (\u001b[38;5;28mself\u001b[39m,),\n\u001b[0;32m   (...)\u001b[0m\n\u001b[1;32m    579\u001b[0m         inputs\u001b[38;5;241m=\u001b[39minputs,\n\u001b[1;32m    580\u001b[0m     )\n\u001b[0;32m--> 581\u001b[0m \u001b[43mtorch\u001b[49m\u001b[38;5;241;43m.\u001b[39;49m\u001b[43mautograd\u001b[49m\u001b[38;5;241;43m.\u001b[39;49m\u001b[43mbackward\u001b[49m\u001b[43m(\u001b[49m\n\u001b[1;32m    582\u001b[0m \u001b[43m    \u001b[49m\u001b[38;5;28;43mself\u001b[39;49m\u001b[43m,\u001b[49m\u001b[43m \u001b[49m\u001b[43mgradient\u001b[49m\u001b[43m,\u001b[49m\u001b[43m \u001b[49m\u001b[43mretain_graph\u001b[49m\u001b[43m,\u001b[49m\u001b[43m \u001b[49m\u001b[43mcreate_graph\u001b[49m\u001b[43m,\u001b[49m\u001b[43m \u001b[49m\u001b[43minputs\u001b[49m\u001b[38;5;241;43m=\u001b[39;49m\u001b[43minputs\u001b[49m\n\u001b[1;32m    583\u001b[0m \u001b[43m\u001b[49m\u001b[43m)\u001b[49m\n",
      "File \u001b[0;32m/opt/homebrew/Caskroom/miniconda/base/envs/bml/lib/python3.12/site-packages/torch/autograd/__init__.py:347\u001b[0m, in \u001b[0;36mbackward\u001b[0;34m(tensors, grad_tensors, retain_graph, create_graph, grad_variables, inputs)\u001b[0m\n\u001b[1;32m    342\u001b[0m     retain_graph \u001b[38;5;241m=\u001b[39m create_graph\n\u001b[1;32m    344\u001b[0m \u001b[38;5;66;03m# The reason we repeat the same comment below is that\u001b[39;00m\n\u001b[1;32m    345\u001b[0m \u001b[38;5;66;03m# some Python versions print out the first line of a multi-line function\u001b[39;00m\n\u001b[1;32m    346\u001b[0m \u001b[38;5;66;03m# calls in the traceback and some print out the last line\u001b[39;00m\n\u001b[0;32m--> 347\u001b[0m \u001b[43m_engine_run_backward\u001b[49m\u001b[43m(\u001b[49m\n\u001b[1;32m    348\u001b[0m \u001b[43m    \u001b[49m\u001b[43mtensors\u001b[49m\u001b[43m,\u001b[49m\n\u001b[1;32m    349\u001b[0m \u001b[43m    \u001b[49m\u001b[43mgrad_tensors_\u001b[49m\u001b[43m,\u001b[49m\n\u001b[1;32m    350\u001b[0m \u001b[43m    \u001b[49m\u001b[43mretain_graph\u001b[49m\u001b[43m,\u001b[49m\n\u001b[1;32m    351\u001b[0m \u001b[43m    \u001b[49m\u001b[43mcreate_graph\u001b[49m\u001b[43m,\u001b[49m\n\u001b[1;32m    352\u001b[0m \u001b[43m    \u001b[49m\u001b[43minputs\u001b[49m\u001b[43m,\u001b[49m\n\u001b[1;32m    353\u001b[0m \u001b[43m    \u001b[49m\u001b[43mallow_unreachable\u001b[49m\u001b[38;5;241;43m=\u001b[39;49m\u001b[38;5;28;43;01mTrue\u001b[39;49;00m\u001b[43m,\u001b[49m\n\u001b[1;32m    354\u001b[0m \u001b[43m    \u001b[49m\u001b[43maccumulate_grad\u001b[49m\u001b[38;5;241;43m=\u001b[39;49m\u001b[38;5;28;43;01mTrue\u001b[39;49;00m\u001b[43m,\u001b[49m\n\u001b[1;32m    355\u001b[0m \u001b[43m\u001b[49m\u001b[43m)\u001b[49m\n",
      "File \u001b[0;32m/opt/homebrew/Caskroom/miniconda/base/envs/bml/lib/python3.12/site-packages/torch/autograd/graph.py:825\u001b[0m, in \u001b[0;36m_engine_run_backward\u001b[0;34m(t_outputs, *args, **kwargs)\u001b[0m\n\u001b[1;32m    823\u001b[0m     unregister_hooks \u001b[38;5;241m=\u001b[39m _register_logging_hooks_on_whole_graph(t_outputs)\n\u001b[1;32m    824\u001b[0m \u001b[38;5;28;01mtry\u001b[39;00m:\n\u001b[0;32m--> 825\u001b[0m     \u001b[38;5;28;01mreturn\u001b[39;00m \u001b[43mVariable\u001b[49m\u001b[38;5;241;43m.\u001b[39;49m\u001b[43m_execution_engine\u001b[49m\u001b[38;5;241;43m.\u001b[39;49m\u001b[43mrun_backward\u001b[49m\u001b[43m(\u001b[49m\u001b[43m  \u001b[49m\u001b[38;5;66;43;03m# Calls into the C++ engine to run the backward pass\u001b[39;49;00m\n\u001b[1;32m    826\u001b[0m \u001b[43m        \u001b[49m\u001b[43mt_outputs\u001b[49m\u001b[43m,\u001b[49m\u001b[43m \u001b[49m\u001b[38;5;241;43m*\u001b[39;49m\u001b[43margs\u001b[49m\u001b[43m,\u001b[49m\u001b[43m \u001b[49m\u001b[38;5;241;43m*\u001b[39;49m\u001b[38;5;241;43m*\u001b[39;49m\u001b[43mkwargs\u001b[49m\n\u001b[1;32m    827\u001b[0m \u001b[43m    \u001b[49m\u001b[43m)\u001b[49m  \u001b[38;5;66;03m# Calls into the C++ engine to run the backward pass\u001b[39;00m\n\u001b[1;32m    828\u001b[0m \u001b[38;5;28;01mfinally\u001b[39;00m:\n\u001b[1;32m    829\u001b[0m     \u001b[38;5;28;01mif\u001b[39;00m attach_logging_hooks:\n",
      "\u001b[0;31mKeyboardInterrupt\u001b[0m: "
     ]
    }
   ],
   "source": [
    "# Hyperparameters\n",
    "batch_size = 64\n",
    "learning_rate = 0.001\n",
    "epochs = 10\n",
    "\n",
    "device = torch.device(\"cuda\" if torch.cuda.is_available() else \"cpu\")\n",
    "\n",
    "# Model, optimizer, and loss function\n",
    "model = NonBayesianCNN().to(device)\n",
    "optimizer = optim.Adam(model.parameters(), lr=learning_rate)\n",
    "criterion = nn.CrossEntropyLoss()\n",
    "\n",
    "train_validate_and_evaluate(model, optimizer, device, epochs, train_loader, test_loader, val_loader, criterion=criterion, use_kl=False)"
   ]
  },
  {
   "cell_type": "markdown",
   "metadata": {},
   "source": [
    "### Train Bayesian CNN"
   ]
  },
  {
   "cell_type": "code",
   "execution_count": 47,
   "metadata": {},
   "outputs": [
    {
     "data": {
      "application/vnd.jupyter.widget-view+json": {
       "model_id": "3fcea7f7d49644478d98b1f971ac5d23",
       "version_major": 2,
       "version_minor": 0
      },
      "text/plain": [
       "  0%|          | 0/7500 [00:00<?, ?batch/s]"
      ]
     },
     "metadata": {},
     "output_type": "display_data"
    },
    {
     "ename": "KeyboardInterrupt",
     "evalue": "",
     "output_type": "error",
     "traceback": [
      "\u001b[0;31m---------------------------------------------------------------------------\u001b[0m",
      "\u001b[0;31mKeyboardInterrupt\u001b[0m                         Traceback (most recent call last)",
      "Cell \u001b[0;32mIn[47], line 13\u001b[0m\n\u001b[1;32m     10\u001b[0m optimizer \u001b[38;5;241m=\u001b[39m optim\u001b[38;5;241m.\u001b[39mAdam(model\u001b[38;5;241m.\u001b[39mparameters(), lr\u001b[38;5;241m=\u001b[39mlearning_rate)\n\u001b[1;32m     11\u001b[0m criterion \u001b[38;5;241m=\u001b[39m nn\u001b[38;5;241m.\u001b[39mCrossEntropyLoss()\n\u001b[0;32m---> 13\u001b[0m \u001b[43mtrain_validate_and_evaluate\u001b[49m\u001b[43m(\u001b[49m\u001b[43mmodel\u001b[49m\u001b[43m,\u001b[49m\u001b[43m \u001b[49m\u001b[43moptimizer\u001b[49m\u001b[43m,\u001b[49m\u001b[43m \u001b[49m\u001b[43mdevice\u001b[49m\u001b[43m,\u001b[49m\u001b[43m \u001b[49m\u001b[43mepochs\u001b[49m\u001b[43m,\u001b[49m\u001b[43m \u001b[49m\u001b[43mtrain_loader\u001b[49m\u001b[43m,\u001b[49m\u001b[43m \u001b[49m\u001b[43mtest_loader\u001b[49m\u001b[43m,\u001b[49m\u001b[43m \u001b[49m\u001b[43mval_loader\u001b[49m\u001b[43m,\u001b[49m\u001b[43m \u001b[49m\u001b[43mcriterion\u001b[49m\u001b[38;5;241;43m=\u001b[39;49m\u001b[43mcriterion\u001b[49m\u001b[43m,\u001b[49m\u001b[43m \u001b[49m\u001b[43muse_kl\u001b[49m\u001b[38;5;241;43m=\u001b[39;49m\u001b[38;5;28;43;01mTrue\u001b[39;49;00m\u001b[43m)\u001b[49m\n",
      "Cell \u001b[0;32mIn[45], line 69\u001b[0m, in \u001b[0;36mtrain_validate_and_evaluate\u001b[0;34m(model, optimizer, device, epochs, train_loader, test_loader, val_loader, criterion, use_kl)\u001b[0m\n\u001b[1;32m     67\u001b[0m \u001b[38;5;66;03m# Backward pass\u001b[39;00m\n\u001b[1;32m     68\u001b[0m optimizer\u001b[38;5;241m.\u001b[39mzero_grad()\n\u001b[0;32m---> 69\u001b[0m \u001b[43mcombined_loss\u001b[49m\u001b[38;5;241;43m.\u001b[39;49m\u001b[43mbackward\u001b[49m\u001b[43m(\u001b[49m\u001b[43m)\u001b[49m\n\u001b[1;32m     70\u001b[0m optimizer\u001b[38;5;241m.\u001b[39mstep()\n\u001b[1;32m     72\u001b[0m \u001b[38;5;66;03m# Update metrics\u001b[39;00m\n",
      "File \u001b[0;32m/opt/homebrew/Caskroom/miniconda/base/envs/bml/lib/python3.12/site-packages/torch/_tensor.py:581\u001b[0m, in \u001b[0;36mTensor.backward\u001b[0;34m(self, gradient, retain_graph, create_graph, inputs)\u001b[0m\n\u001b[1;32m    571\u001b[0m \u001b[38;5;28;01mif\u001b[39;00m has_torch_function_unary(\u001b[38;5;28mself\u001b[39m):\n\u001b[1;32m    572\u001b[0m     \u001b[38;5;28;01mreturn\u001b[39;00m handle_torch_function(\n\u001b[1;32m    573\u001b[0m         Tensor\u001b[38;5;241m.\u001b[39mbackward,\n\u001b[1;32m    574\u001b[0m         (\u001b[38;5;28mself\u001b[39m,),\n\u001b[0;32m   (...)\u001b[0m\n\u001b[1;32m    579\u001b[0m         inputs\u001b[38;5;241m=\u001b[39minputs,\n\u001b[1;32m    580\u001b[0m     )\n\u001b[0;32m--> 581\u001b[0m \u001b[43mtorch\u001b[49m\u001b[38;5;241;43m.\u001b[39;49m\u001b[43mautograd\u001b[49m\u001b[38;5;241;43m.\u001b[39;49m\u001b[43mbackward\u001b[49m\u001b[43m(\u001b[49m\n\u001b[1;32m    582\u001b[0m \u001b[43m    \u001b[49m\u001b[38;5;28;43mself\u001b[39;49m\u001b[43m,\u001b[49m\u001b[43m \u001b[49m\u001b[43mgradient\u001b[49m\u001b[43m,\u001b[49m\u001b[43m \u001b[49m\u001b[43mretain_graph\u001b[49m\u001b[43m,\u001b[49m\u001b[43m \u001b[49m\u001b[43mcreate_graph\u001b[49m\u001b[43m,\u001b[49m\u001b[43m \u001b[49m\u001b[43minputs\u001b[49m\u001b[38;5;241;43m=\u001b[39;49m\u001b[43minputs\u001b[49m\n\u001b[1;32m    583\u001b[0m \u001b[43m\u001b[49m\u001b[43m)\u001b[49m\n",
      "File \u001b[0;32m/opt/homebrew/Caskroom/miniconda/base/envs/bml/lib/python3.12/site-packages/torch/autograd/__init__.py:347\u001b[0m, in \u001b[0;36mbackward\u001b[0;34m(tensors, grad_tensors, retain_graph, create_graph, grad_variables, inputs)\u001b[0m\n\u001b[1;32m    342\u001b[0m     retain_graph \u001b[38;5;241m=\u001b[39m create_graph\n\u001b[1;32m    344\u001b[0m \u001b[38;5;66;03m# The reason we repeat the same comment below is that\u001b[39;00m\n\u001b[1;32m    345\u001b[0m \u001b[38;5;66;03m# some Python versions print out the first line of a multi-line function\u001b[39;00m\n\u001b[1;32m    346\u001b[0m \u001b[38;5;66;03m# calls in the traceback and some print out the last line\u001b[39;00m\n\u001b[0;32m--> 347\u001b[0m \u001b[43m_engine_run_backward\u001b[49m\u001b[43m(\u001b[49m\n\u001b[1;32m    348\u001b[0m \u001b[43m    \u001b[49m\u001b[43mtensors\u001b[49m\u001b[43m,\u001b[49m\n\u001b[1;32m    349\u001b[0m \u001b[43m    \u001b[49m\u001b[43mgrad_tensors_\u001b[49m\u001b[43m,\u001b[49m\n\u001b[1;32m    350\u001b[0m \u001b[43m    \u001b[49m\u001b[43mretain_graph\u001b[49m\u001b[43m,\u001b[49m\n\u001b[1;32m    351\u001b[0m \u001b[43m    \u001b[49m\u001b[43mcreate_graph\u001b[49m\u001b[43m,\u001b[49m\n\u001b[1;32m    352\u001b[0m \u001b[43m    \u001b[49m\u001b[43minputs\u001b[49m\u001b[43m,\u001b[49m\n\u001b[1;32m    353\u001b[0m \u001b[43m    \u001b[49m\u001b[43mallow_unreachable\u001b[49m\u001b[38;5;241;43m=\u001b[39;49m\u001b[38;5;28;43;01mTrue\u001b[39;49;00m\u001b[43m,\u001b[49m\n\u001b[1;32m    354\u001b[0m \u001b[43m    \u001b[49m\u001b[43maccumulate_grad\u001b[49m\u001b[38;5;241;43m=\u001b[39;49m\u001b[38;5;28;43;01mTrue\u001b[39;49;00m\u001b[43m,\u001b[49m\n\u001b[1;32m    355\u001b[0m \u001b[43m\u001b[49m\u001b[43m)\u001b[49m\n",
      "File \u001b[0;32m/opt/homebrew/Caskroom/miniconda/base/envs/bml/lib/python3.12/site-packages/torch/autograd/graph.py:825\u001b[0m, in \u001b[0;36m_engine_run_backward\u001b[0;34m(t_outputs, *args, **kwargs)\u001b[0m\n\u001b[1;32m    823\u001b[0m     unregister_hooks \u001b[38;5;241m=\u001b[39m _register_logging_hooks_on_whole_graph(t_outputs)\n\u001b[1;32m    824\u001b[0m \u001b[38;5;28;01mtry\u001b[39;00m:\n\u001b[0;32m--> 825\u001b[0m     \u001b[38;5;28;01mreturn\u001b[39;00m \u001b[43mVariable\u001b[49m\u001b[38;5;241;43m.\u001b[39;49m\u001b[43m_execution_engine\u001b[49m\u001b[38;5;241;43m.\u001b[39;49m\u001b[43mrun_backward\u001b[49m\u001b[43m(\u001b[49m\u001b[43m  \u001b[49m\u001b[38;5;66;43;03m# Calls into the C++ engine to run the backward pass\u001b[39;49;00m\n\u001b[1;32m    826\u001b[0m \u001b[43m        \u001b[49m\u001b[43mt_outputs\u001b[49m\u001b[43m,\u001b[49m\u001b[43m \u001b[49m\u001b[38;5;241;43m*\u001b[39;49m\u001b[43margs\u001b[49m\u001b[43m,\u001b[49m\u001b[43m \u001b[49m\u001b[38;5;241;43m*\u001b[39;49m\u001b[38;5;241;43m*\u001b[39;49m\u001b[43mkwargs\u001b[49m\n\u001b[1;32m    827\u001b[0m \u001b[43m    \u001b[49m\u001b[43m)\u001b[49m  \u001b[38;5;66;03m# Calls into the C++ engine to run the backward pass\u001b[39;00m\n\u001b[1;32m    828\u001b[0m \u001b[38;5;28;01mfinally\u001b[39;00m:\n\u001b[1;32m    829\u001b[0m     \u001b[38;5;28;01mif\u001b[39;00m attach_logging_hooks:\n",
      "\u001b[0;31mKeyboardInterrupt\u001b[0m: "
     ]
    }
   ],
   "source": [
    "# Hyperparameters\n",
    "batch_size = 64\n",
    "learning_rate = 0.001\n",
    "epochs = 10\n",
    "\n",
    "device = torch.device(\"cuda\" if torch.cuda.is_available() else \"cpu\")\n",
    "\n",
    "# Model, optimizer, and loss function\n",
    "model = BayesianCNN().to(device)\n",
    "optimizer = optim.Adam(model.parameters(), lr=learning_rate)\n",
    "criterion = nn.CrossEntropyLoss()\n",
    "\n",
    "train_validate_and_evaluate(model, optimizer, device, epochs, train_loader, test_loader, val_loader, criterion=criterion, use_kl=True)"
   ]
  },
  {
   "cell_type": "code",
   "execution_count": null,
   "metadata": {},
   "outputs": [],
   "source": []
  }
 ],
 "metadata": {
  "kernelspec": {
   "display_name": "bml",
   "language": "python",
   "name": "python3"
  },
  "language_info": {
   "codemirror_mode": {
    "name": "ipython",
    "version": 3
   },
   "file_extension": ".py",
   "mimetype": "text/x-python",
   "name": "python",
   "nbconvert_exporter": "python",
   "pygments_lexer": "ipython3",
   "version": "3.12.7"
  }
 },
 "nbformat": 4,
 "nbformat_minor": 2
}
